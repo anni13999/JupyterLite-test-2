{
 "cells": [
  {
   "cell_type": "markdown",
   "id": "a9da3214",
   "metadata": {},
   "source": [
    "Exercise"
   ]
  },
  {
   "cell_type": "markdown",
   "id": "317ce811",
   "metadata": {},
   "source": [
    "Printing on screen\n",
    "Create a function named show_address that will display your name and your mailing address. The function does not need to take any additional info or return anything. Therefore you may just call it like show_address() and it should print on screen something like:\n",
    "\n",
    "your name <br>",
    "street name and suburb <br>",
    "postcode and city <br>",
    "country <br>"
   ]
  },
  {
   "cell_type": "code",
   "execution_count": null,
   "id": "2ba0343c",
   "metadata": {},
   "outputs": [],
   "source": []
  },
  {
   "cell_type": "markdown",
   "id": "0582a5bd",
   "metadata": {},
   "source": [
    "Adding flexibility\n",
    "Modify your previous solution so that show_address accepts additional information, the name of the person to print the address. For example, when you call it show_address('James Cook') it will print out James Cook name followed by your address. You may also include other information by adding appropriate parameters, like shown below."
   ]
  },
  {
   "cell_type": "markdown",
   "id": "1d8817b5",
   "metadata": {},
   "source": [
    "Output example (note the function arguments)"
   ]
  },
  {
   "attachments": {
    "ex_1.1.1_out.png": {
     "image/png": "[encoded data removed]"
    }
   },
   "cell_type": "markdown",
   "id": "cb4c4d82",
   "metadata": {},
   "source": [
    "![ex_1.1.1_out.png](attachment:ex_1.1.1_out.png)"
   ]
  },
  {
   "cell_type": "code",
   "execution_count": null,
   "id": "74e1bf26",
   "metadata": {},
   "outputs": [],
   "source": []
  },
  {
   "cell_type": "markdown",
   "id": "c34656a8",
   "metadata": {},
   "source": [
    "Finding the area of a rectangle\n",
    "Write a function find_area that asks the user to enter the width and length of a rectangular room. Once these values have been read, your program should compute and display the area of the room. The length and the width will be entered as floating-point numbers. Include units in your prompt and output message. Calling the function by name find_area() should produce the message like:\n",
    "\n",
    "The area of your room is 24.4 square metres.\n",
    "Of course, the actual number will differ for your room."
   ]
  },
  {
   "cell_type": "code",
   "execution_count": null,
   "id": "bdc47b5b",
   "metadata": {},
   "outputs": [],
   "source": []
  }
 ],
 "metadata": {
  "kernelspec": {
   "display_name": "Python 3 (ipykernel)",
   "language": "python",
   "name": "python3"
  },
  "language_info": {
   "codemirror_mode": {
    "name": "ipython",
    "version": 3
   },
   "file_extension": ".py",
   "mimetype": "text/x-python",
   "name": "python",
   "nbconvert_exporter": "python",
   "pygments_lexer": "ipython3",
   "version": "3.9.13"
  }
 },
 "nbformat": 4,
 "nbformat_minor": 5
}
